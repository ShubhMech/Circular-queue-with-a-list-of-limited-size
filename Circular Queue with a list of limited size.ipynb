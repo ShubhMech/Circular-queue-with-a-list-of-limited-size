{
 "cells": [
  {
   "cell_type": "code",
   "execution_count": 275,
   "id": "195f95ec-e582-4942-8c55-24af54d3804f",
   "metadata": {},
   "outputs": [],
   "source": [
    "class cqueue:\n",
    "    def __init__(self,max_size):\n",
    "        self.max=max_size\n",
    "        self.items=[None]*self.max\n",
    "        self.top=-1\n",
    "        self.start=-1\n",
    "    \n",
    "    def __str__(self):\n",
    "        values=[str(i) for i in self.items]\n",
    "        return \" \".join(values)\n",
    "    \n",
    "    def isFull(self):\n",
    "        if self.top+1==self.start:\n",
    "            return True\n",
    "        elif self.start==0 and self.top==self.max-1:\n",
    "            return True\n",
    "        else:\n",
    "            return False\n",
    "        \n",
    "    \n",
    "    def is_empty(self):\n",
    "        if self.start==-1:\n",
    "            return True\n",
    "        else:\n",
    "            return False\n",
    "        \n",
    "    def enqueue(self,value):\n",
    "        if self.isFull():\n",
    "            return \"Can't insert anymore data points into the queue\"\n",
    "        \n",
    "        \n",
    "        elif self.top+1==self.max:\n",
    "            self.top=0\n",
    "            if self.start==0:\n",
    "                return \"Can't insert! \"\n",
    "            else:\n",
    "                self.items[self.top]=value\n",
    "#                 self.top +=1\n",
    "            \n",
    "        else: \n",
    "            \n",
    "            if self.start==-1:\n",
    "                self.start=0\n",
    "                self.top=0\n",
    "                self.items[self.top]=value\n",
    "                \n",
    "                \n",
    "            else:\n",
    "                self.top +=1\n",
    "                self.items[self.top]=value\n",
    "                \n",
    "                \n",
    "\n",
    "    def dequeue(self):\n",
    "        if self.is_empty():\n",
    "            return \"Can't delete, dear\"\n",
    "        else:\n",
    "            if self.start <=self.max-2:\n",
    "                self.start= self.start + 1\n",
    "                return self.items[self.start-1]\n",
    "            else:\n",
    "                if self.top == self.max-1:\n",
    "                    self.start=-1\n",
    "                    return self.items[self.max-1]\n",
    "                else:\n",
    "                    self.start=0\n",
    "                    \n",
    "            \n",
    "            \n",
    "    def peep(self):\n",
    "        if self.is_empty():\n",
    "            return \"Can't peep, dear\"\n",
    "        elif self.start != -1 :\n",
    "            return self.items[self.start]\n",
    "        else:\n",
    "            return \"No item in the list\"\n",
    "        \n",
    "    def delete(self):\n",
    "        self.start=-1\n",
    "        self.top=-1"
   ]
  },
  {
   "cell_type": "code",
   "execution_count": 276,
   "id": "9f431f2b-5bc0-49de-8abe-a7c9a5af0918",
   "metadata": {},
   "outputs": [],
   "source": [
    "q=cqueue(3)"
   ]
  },
  {
   "cell_type": "code",
   "execution_count": 277,
   "id": "a1f39275-0d79-41a6-b8d1-ac55b9eddd28",
   "metadata": {},
   "outputs": [
    {
     "data": {
      "text/plain": [
       "3"
      ]
     },
     "execution_count": 277,
     "metadata": {},
     "output_type": "execute_result"
    }
   ],
   "source": [
    "q.max"
   ]
  },
  {
   "cell_type": "code",
   "execution_count": 278,
   "id": "fbfe7e47-e93a-4483-9d57-13214288b972",
   "metadata": {},
   "outputs": [
    {
     "name": "stdout",
     "output_type": "stream",
     "text": [
      "None None None\n"
     ]
    }
   ],
   "source": [
    "print(q)"
   ]
  },
  {
   "cell_type": "code",
   "execution_count": 279,
   "id": "6ddd8522-fd7a-4c6b-9ab7-de6a0769376f",
   "metadata": {},
   "outputs": [
    {
     "data": {
      "text/plain": [
       "-1"
      ]
     },
     "execution_count": 279,
     "metadata": {},
     "output_type": "execute_result"
    }
   ],
   "source": [
    "q.top"
   ]
  },
  {
   "cell_type": "code",
   "execution_count": 280,
   "id": "c8d2a9a7-c2d2-40d9-98f4-e4b3eb7d12ff",
   "metadata": {},
   "outputs": [
    {
     "data": {
      "text/plain": [
       "-1"
      ]
     },
     "execution_count": 280,
     "metadata": {},
     "output_type": "execute_result"
    }
   ],
   "source": [
    "q.start"
   ]
  },
  {
   "cell_type": "code",
   "execution_count": 281,
   "id": "fbb4f83d-1b76-4fec-ace5-f5a99aa2cd99",
   "metadata": {},
   "outputs": [
    {
     "data": {
      "text/plain": [
       "False"
      ]
     },
     "execution_count": 281,
     "metadata": {},
     "output_type": "execute_result"
    }
   ],
   "source": [
    "q.isFull()"
   ]
  },
  {
   "cell_type": "code",
   "execution_count": 282,
   "id": "560fb7f5-6c89-4090-b19f-6ab66393c57e",
   "metadata": {},
   "outputs": [
    {
     "data": {
      "text/plain": [
       "True"
      ]
     },
     "execution_count": 282,
     "metadata": {},
     "output_type": "execute_result"
    }
   ],
   "source": [
    "q.is_empty()"
   ]
  },
  {
   "cell_type": "code",
   "execution_count": 283,
   "id": "7bda3d26-8cea-4805-92d1-d89e217c963d",
   "metadata": {},
   "outputs": [],
   "source": [
    "q.enqueue(3)"
   ]
  },
  {
   "cell_type": "code",
   "execution_count": 284,
   "id": "fbc7386e-1351-4cfd-8fcb-b05ba2268f85",
   "metadata": {},
   "outputs": [
    {
     "name": "stdout",
     "output_type": "stream",
     "text": [
      "3 None None\n"
     ]
    }
   ],
   "source": [
    "print(q)"
   ]
  },
  {
   "cell_type": "code",
   "execution_count": 285,
   "id": "0600c55a-d55c-4143-832d-bed29141f139",
   "metadata": {},
   "outputs": [
    {
     "data": {
      "text/plain": [
       "0"
      ]
     },
     "execution_count": 285,
     "metadata": {},
     "output_type": "execute_result"
    }
   ],
   "source": [
    "q.top"
   ]
  },
  {
   "cell_type": "code",
   "execution_count": 286,
   "id": "22de582b-b6a2-49dd-bb00-7ba48713aaf1",
   "metadata": {},
   "outputs": [
    {
     "data": {
      "text/plain": [
       "0"
      ]
     },
     "execution_count": 286,
     "metadata": {},
     "output_type": "execute_result"
    }
   ],
   "source": [
    "q.start"
   ]
  },
  {
   "cell_type": "code",
   "execution_count": 287,
   "id": "83163176-8da7-4522-a693-b523473d951f",
   "metadata": {},
   "outputs": [],
   "source": [
    "q.enqueue(4)"
   ]
  },
  {
   "cell_type": "code",
   "execution_count": 288,
   "id": "90fca2bf-3347-46b9-90a2-b8d3bdd81b77",
   "metadata": {},
   "outputs": [
    {
     "name": "stdout",
     "output_type": "stream",
     "text": [
      "3 4 None\n"
     ]
    }
   ],
   "source": [
    "print(q)"
   ]
  },
  {
   "cell_type": "code",
   "execution_count": 289,
   "id": "710d1cf5-c138-4b22-b061-39bd8b0e120a",
   "metadata": {},
   "outputs": [
    {
     "data": {
      "text/plain": [
       "1"
      ]
     },
     "execution_count": 289,
     "metadata": {},
     "output_type": "execute_result"
    }
   ],
   "source": [
    "q.top"
   ]
  },
  {
   "cell_type": "code",
   "execution_count": 290,
   "id": "3db0b6ce-d44a-4541-a99c-3e58cc4718a0",
   "metadata": {},
   "outputs": [
    {
     "data": {
      "text/plain": [
       "0"
      ]
     },
     "execution_count": 290,
     "metadata": {},
     "output_type": "execute_result"
    }
   ],
   "source": [
    "q.start"
   ]
  },
  {
   "cell_type": "code",
   "execution_count": 291,
   "id": "60735923-bfa8-4356-98ee-75e482f4756a",
   "metadata": {},
   "outputs": [],
   "source": [
    "q.enqueue(5)"
   ]
  },
  {
   "cell_type": "code",
   "execution_count": 292,
   "id": "3487e138-1471-4d75-9272-63cc4b1e2d6c",
   "metadata": {},
   "outputs": [
    {
     "name": "stdout",
     "output_type": "stream",
     "text": [
      "3 4 5\n"
     ]
    }
   ],
   "source": [
    "print(q)"
   ]
  },
  {
   "cell_type": "code",
   "execution_count": 293,
   "id": "76e67b28-d037-473e-bc53-675a80953a1b",
   "metadata": {},
   "outputs": [
    {
     "data": {
      "text/plain": [
       "True"
      ]
     },
     "execution_count": 293,
     "metadata": {},
     "output_type": "execute_result"
    }
   ],
   "source": [
    "q.isFull()"
   ]
  },
  {
   "cell_type": "code",
   "execution_count": 294,
   "id": "2e65b258-dc72-40bc-916d-2e2d559cc140",
   "metadata": {},
   "outputs": [
    {
     "data": {
      "text/plain": [
       "2"
      ]
     },
     "execution_count": 294,
     "metadata": {},
     "output_type": "execute_result"
    }
   ],
   "source": [
    "q.top"
   ]
  },
  {
   "cell_type": "code",
   "execution_count": 295,
   "id": "f91d088a-fab5-4b67-93ff-3fd215e4cece",
   "metadata": {},
   "outputs": [
    {
     "data": {
      "text/plain": [
       "3"
      ]
     },
     "execution_count": 295,
     "metadata": {},
     "output_type": "execute_result"
    }
   ],
   "source": [
    "q.max"
   ]
  },
  {
   "cell_type": "code",
   "execution_count": 296,
   "id": "8a2fc020-e650-4d15-8695-998fdf5205ee",
   "metadata": {},
   "outputs": [
    {
     "data": {
      "text/plain": [
       "0"
      ]
     },
     "execution_count": 296,
     "metadata": {},
     "output_type": "execute_result"
    }
   ],
   "source": [
    "q.start"
   ]
  },
  {
   "cell_type": "code",
   "execution_count": null,
   "id": "6648e5f8-da4e-4eaf-a69d-35577f0f1336",
   "metadata": {},
   "outputs": [],
   "source": []
  },
  {
   "cell_type": "code",
   "execution_count": 297,
   "id": "7b7aeff3-e8da-4835-bf1e-5849a9d07bee",
   "metadata": {},
   "outputs": [
    {
     "data": {
      "text/plain": [
       "False"
      ]
     },
     "execution_count": 297,
     "metadata": {},
     "output_type": "execute_result"
    }
   ],
   "source": [
    "q.is_empty()"
   ]
  },
  {
   "cell_type": "code",
   "execution_count": 298,
   "id": "c592f42a-c912-4cc4-a0a4-dfa296258078",
   "metadata": {},
   "outputs": [
    {
     "data": {
      "text/plain": [
       "\"Can't insert anymore data points into the queue\""
      ]
     },
     "execution_count": 298,
     "metadata": {},
     "output_type": "execute_result"
    }
   ],
   "source": [
    "q.enqueue(4)"
   ]
  },
  {
   "cell_type": "code",
   "execution_count": 299,
   "id": "97efa630-10df-45e2-8d42-2093cef40861",
   "metadata": {},
   "outputs": [
    {
     "data": {
      "text/plain": [
       "3"
      ]
     },
     "execution_count": 299,
     "metadata": {},
     "output_type": "execute_result"
    }
   ],
   "source": [
    "q.dequeue()"
   ]
  },
  {
   "cell_type": "code",
   "execution_count": 300,
   "id": "8b18a69c-a052-43ef-ae48-70277d217f9b",
   "metadata": {},
   "outputs": [
    {
     "data": {
      "text/plain": [
       "2"
      ]
     },
     "execution_count": 300,
     "metadata": {},
     "output_type": "execute_result"
    }
   ],
   "source": [
    "q.top"
   ]
  },
  {
   "cell_type": "code",
   "execution_count": 301,
   "id": "827300c4-ca92-438a-84ad-9ea3d85ef46f",
   "metadata": {},
   "outputs": [
    {
     "data": {
      "text/plain": [
       "1"
      ]
     },
     "execution_count": 301,
     "metadata": {},
     "output_type": "execute_result"
    }
   ],
   "source": [
    "q.start"
   ]
  },
  {
   "cell_type": "code",
   "execution_count": 302,
   "id": "c405a0f6-ba71-4993-9f7a-1682a85ad0c0",
   "metadata": {},
   "outputs": [
    {
     "data": {
      "text/plain": [
       "4"
      ]
     },
     "execution_count": 302,
     "metadata": {},
     "output_type": "execute_result"
    }
   ],
   "source": [
    "q.dequeue()"
   ]
  },
  {
   "cell_type": "code",
   "execution_count": 303,
   "id": "c15e13ec-d763-417d-b7f5-8941a5f732dc",
   "metadata": {},
   "outputs": [
    {
     "data": {
      "text/plain": [
       "5"
      ]
     },
     "execution_count": 303,
     "metadata": {},
     "output_type": "execute_result"
    }
   ],
   "source": [
    "q.peep()"
   ]
  },
  {
   "cell_type": "code",
   "execution_count": 304,
   "id": "7eee0c71-45b5-4263-99f7-140488f2b0f2",
   "metadata": {},
   "outputs": [
    {
     "data": {
      "text/plain": [
       "5"
      ]
     },
     "execution_count": 304,
     "metadata": {},
     "output_type": "execute_result"
    }
   ],
   "source": [
    "q.dequeue()"
   ]
  },
  {
   "cell_type": "code",
   "execution_count": 305,
   "id": "59b62fcc-5764-43e5-9f7c-7520a7296326",
   "metadata": {},
   "outputs": [
    {
     "data": {
      "text/plain": [
       "-1"
      ]
     },
     "execution_count": 305,
     "metadata": {},
     "output_type": "execute_result"
    }
   ],
   "source": [
    "q.start"
   ]
  },
  {
   "cell_type": "code",
   "execution_count": 306,
   "id": "20973430-1bad-482c-95ee-26c73d559660",
   "metadata": {
    "tags": []
   },
   "outputs": [
    {
     "data": {
      "text/plain": [
       "\"Can't peep, dear\""
      ]
     },
     "execution_count": 306,
     "metadata": {},
     "output_type": "execute_result"
    }
   ],
   "source": [
    "q.peep()"
   ]
  },
  {
   "cell_type": "code",
   "execution_count": 307,
   "id": "53ea0a2e-5c9f-4fb7-90f8-b8fda6b87fb9",
   "metadata": {
    "tags": []
   },
   "outputs": [
    {
     "data": {
      "text/plain": [
       "True"
      ]
     },
     "execution_count": 307,
     "metadata": {},
     "output_type": "execute_result"
    }
   ],
   "source": [
    "q.is_empty()"
   ]
  },
  {
   "cell_type": "code",
   "execution_count": 308,
   "id": "c60204ee-13f8-4d44-96a6-6f94c638283c",
   "metadata": {},
   "outputs": [
    {
     "data": {
      "text/plain": [
       "2"
      ]
     },
     "execution_count": 308,
     "metadata": {},
     "output_type": "execute_result"
    }
   ],
   "source": [
    "q.top"
   ]
  },
  {
   "cell_type": "code",
   "execution_count": 309,
   "id": "39b40e27-5348-417a-ab33-3e0afdc86c4e",
   "metadata": {},
   "outputs": [
    {
     "name": "stdout",
     "output_type": "stream",
     "text": [
      "3 4 5\n"
     ]
    }
   ],
   "source": [
    "print(q)"
   ]
  },
  {
   "cell_type": "code",
   "execution_count": null,
   "id": "0c91d974-9b48-43dc-9276-181101d2dc21",
   "metadata": {},
   "outputs": [],
   "source": []
  },
  {
   "cell_type": "code",
   "execution_count": 310,
   "id": "c2e21685-c583-4c5d-ae03-a7455c0f160e",
   "metadata": {
    "tags": []
   },
   "outputs": [
    {
     "data": {
      "text/plain": [
       "[None, None, None, None, \"Can't insert anymore data points into the queue\"]"
      ]
     },
     "execution_count": 310,
     "metadata": {},
     "output_type": "execute_result"
    }
   ],
   "source": [
    "[q.enqueue(i) for i in range(0,5)]"
   ]
  },
  {
   "cell_type": "code",
   "execution_count": 311,
   "id": "7ef5d863-1634-44db-8523-2b4f046745a0",
   "metadata": {},
   "outputs": [
    {
     "name": "stdout",
     "output_type": "stream",
     "text": [
      "1 2 3\n"
     ]
    }
   ],
   "source": [
    "print(q)"
   ]
  },
  {
   "cell_type": "code",
   "execution_count": 312,
   "id": "2ebff569-8ff1-4eb2-b95e-147b8de98a3a",
   "metadata": {},
   "outputs": [
    {
     "data": {
      "text/plain": [
       "0"
      ]
     },
     "execution_count": 312,
     "metadata": {},
     "output_type": "execute_result"
    }
   ],
   "source": [
    "q.start"
   ]
  },
  {
   "cell_type": "code",
   "execution_count": 313,
   "id": "a028071a-9cb1-4041-ad5f-9b8a8af108c4",
   "metadata": {},
   "outputs": [
    {
     "data": {
      "text/plain": [
       "2"
      ]
     },
     "execution_count": 313,
     "metadata": {},
     "output_type": "execute_result"
    }
   ],
   "source": [
    "q.top"
   ]
  },
  {
   "cell_type": "code",
   "execution_count": 314,
   "id": "c33164b7-943f-4c2e-8fbf-b245727a916e",
   "metadata": {},
   "outputs": [
    {
     "data": {
      "text/plain": [
       "1"
      ]
     },
     "execution_count": 314,
     "metadata": {},
     "output_type": "execute_result"
    }
   ],
   "source": [
    "q.dequeue()"
   ]
  },
  {
   "cell_type": "code",
   "execution_count": 315,
   "id": "33ca8312-c0f3-44ce-a9e2-0059f902a4f4",
   "metadata": {},
   "outputs": [
    {
     "data": {
      "text/plain": [
       "2"
      ]
     },
     "execution_count": 315,
     "metadata": {},
     "output_type": "execute_result"
    }
   ],
   "source": [
    "q.peep()"
   ]
  },
  {
   "cell_type": "code",
   "execution_count": 316,
   "id": "97ead78b-2c06-4a30-8bfc-f56eb76e16d2",
   "metadata": {},
   "outputs": [
    {
     "data": {
      "text/plain": [
       "1"
      ]
     },
     "execution_count": 316,
     "metadata": {},
     "output_type": "execute_result"
    }
   ],
   "source": [
    "q.start"
   ]
  },
  {
   "cell_type": "code",
   "execution_count": 317,
   "id": "7802b11f-1b8e-4adf-8e0d-22896167dc2e",
   "metadata": {},
   "outputs": [],
   "source": [
    "q.enqueue(3333)"
   ]
  },
  {
   "cell_type": "code",
   "execution_count": 318,
   "id": "4cd59225-c829-4998-863c-e8277f8b5ff3",
   "metadata": {},
   "outputs": [
    {
     "data": {
      "text/plain": [
       "2"
      ]
     },
     "execution_count": 318,
     "metadata": {},
     "output_type": "execute_result"
    }
   ],
   "source": [
    "q.peep()"
   ]
  },
  {
   "cell_type": "code",
   "execution_count": 319,
   "id": "1a73b87d-1568-407e-996f-f1f98c68f5f2",
   "metadata": {},
   "outputs": [
    {
     "name": "stdout",
     "output_type": "stream",
     "text": [
      "3333 2 3\n"
     ]
    }
   ],
   "source": [
    "print(q)"
   ]
  },
  {
   "cell_type": "code",
   "execution_count": 320,
   "id": "f64dac96-85bd-4f76-9eb3-dc199debdf73",
   "metadata": {},
   "outputs": [
    {
     "data": {
      "text/plain": [
       "\"Can't insert anymore data points into the queue\""
      ]
     },
     "execution_count": 320,
     "metadata": {},
     "output_type": "execute_result"
    }
   ],
   "source": [
    "q.enqueue(55)"
   ]
  },
  {
   "cell_type": "code",
   "execution_count": 321,
   "id": "a191fc2c-e2a0-42bb-a9f3-3fab464e764f",
   "metadata": {},
   "outputs": [
    {
     "data": {
      "text/plain": [
       "2"
      ]
     },
     "execution_count": 321,
     "metadata": {},
     "output_type": "execute_result"
    }
   ],
   "source": [
    "q.dequeue()"
   ]
  },
  {
   "cell_type": "code",
   "execution_count": 322,
   "id": "63a639d9-62be-4fbb-ad81-aba5c66e339d",
   "metadata": {},
   "outputs": [
    {
     "data": {
      "text/plain": [
       "3"
      ]
     },
     "execution_count": 322,
     "metadata": {},
     "output_type": "execute_result"
    }
   ],
   "source": [
    "q.peep()"
   ]
  },
  {
   "cell_type": "code",
   "execution_count": 323,
   "id": "f29e0ae2-057b-4781-b0eb-d42fe6b63164",
   "metadata": {},
   "outputs": [
    {
     "data": {
      "text/plain": [
       "2"
      ]
     },
     "execution_count": 323,
     "metadata": {},
     "output_type": "execute_result"
    }
   ],
   "source": [
    "q.start"
   ]
  },
  {
   "cell_type": "code",
   "execution_count": 324,
   "id": "2c4c73d2-6fd8-4921-93a6-bd60f9a7db85",
   "metadata": {},
   "outputs": [
    {
     "data": {
      "text/plain": [
       "0"
      ]
     },
     "execution_count": 324,
     "metadata": {},
     "output_type": "execute_result"
    }
   ],
   "source": [
    "q.top"
   ]
  },
  {
   "cell_type": "code",
   "execution_count": 325,
   "id": "ca3d8598-b11b-45da-8381-7389d45ed328",
   "metadata": {},
   "outputs": [
    {
     "data": {
      "text/plain": [
       "False"
      ]
     },
     "execution_count": 325,
     "metadata": {},
     "output_type": "execute_result"
    }
   ],
   "source": [
    "q.isFull()"
   ]
  },
  {
   "cell_type": "code",
   "execution_count": 326,
   "id": "651d8dd6-1636-4ed6-9087-c373a8154e06",
   "metadata": {},
   "outputs": [],
   "source": [
    "q.enqueue(987654345678)"
   ]
  },
  {
   "cell_type": "code",
   "execution_count": 327,
   "id": "ff76e1a8-91c2-4899-8df3-7c3b57f000cc",
   "metadata": {},
   "outputs": [
    {
     "name": "stdout",
     "output_type": "stream",
     "text": [
      "3333 987654345678 3\n"
     ]
    }
   ],
   "source": [
    "print(q)"
   ]
  },
  {
   "cell_type": "code",
   "execution_count": 328,
   "id": "a4a97508-fedd-4f27-8a21-5df13f065af6",
   "metadata": {},
   "outputs": [
    {
     "data": {
      "text/plain": [
       "True"
      ]
     },
     "execution_count": 328,
     "metadata": {},
     "output_type": "execute_result"
    }
   ],
   "source": [
    "q.isFull()"
   ]
  },
  {
   "cell_type": "code",
   "execution_count": 330,
   "id": "b8b41de8-c088-4c29-ac95-426966ed76df",
   "metadata": {},
   "outputs": [
    {
     "data": {
      "text/plain": [
       "3"
      ]
     },
     "execution_count": 330,
     "metadata": {},
     "output_type": "execute_result"
    }
   ],
   "source": [
    "q.peep()"
   ]
  },
  {
   "cell_type": "code",
   "execution_count": 331,
   "id": "d4efcc8e-51b1-407a-93a4-1993f43e66b3",
   "metadata": {},
   "outputs": [
    {
     "data": {
      "text/plain": [
       "1"
      ]
     },
     "execution_count": 331,
     "metadata": {},
     "output_type": "execute_result"
    }
   ],
   "source": [
    "q.top"
   ]
  },
  {
   "cell_type": "code",
   "execution_count": 332,
   "id": "6d95807f-d2d8-4521-9669-cc30456dbb51",
   "metadata": {},
   "outputs": [
    {
     "data": {
      "text/plain": [
       "2"
      ]
     },
     "execution_count": 332,
     "metadata": {},
     "output_type": "execute_result"
    }
   ],
   "source": [
    "q.start"
   ]
  },
  {
   "cell_type": "code",
   "execution_count": 333,
   "id": "d57d3d55-cc3b-496f-9a79-fc2d7a39b571",
   "metadata": {},
   "outputs": [],
   "source": [
    "q.dequeue()"
   ]
  },
  {
   "cell_type": "code",
   "execution_count": 335,
   "id": "aeb5e3d0-3152-4f94-97b8-9db210222df6",
   "metadata": {},
   "outputs": [
    {
     "data": {
      "text/plain": [
       "3333"
      ]
     },
     "execution_count": 335,
     "metadata": {},
     "output_type": "execute_result"
    }
   ],
   "source": [
    "q.peep()"
   ]
  },
  {
   "cell_type": "code",
   "execution_count": 336,
   "id": "f8d3cd3c-8ce1-4385-af15-9c3b22db3c82",
   "metadata": {},
   "outputs": [
    {
     "data": {
      "text/plain": [
       "0"
      ]
     },
     "execution_count": 336,
     "metadata": {},
     "output_type": "execute_result"
    }
   ],
   "source": [
    "q.start"
   ]
  },
  {
   "cell_type": "code",
   "execution_count": null,
   "id": "4d88f4f2-1255-4c62-8aa0-590438c7157e",
   "metadata": {},
   "outputs": [],
   "source": []
  }
 ],
 "metadata": {
  "kernelspec": {
   "display_name": "Python 3",
   "language": "python",
   "name": "python3"
  },
  "language_info": {
   "codemirror_mode": {
    "name": "ipython",
    "version": 3
   },
   "file_extension": ".py",
   "mimetype": "text/x-python",
   "name": "python",
   "nbconvert_exporter": "python",
   "pygments_lexer": "ipython3",
   "version": "3.8.5"
  }
 },
 "nbformat": 4,
 "nbformat_minor": 5
}
